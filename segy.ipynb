{
 "cells": [
  {
   "cell_type": "code",
   "execution_count": 1,
   "metadata": {
    "collapsed": true
   },
   "outputs": [],
   "source": [
    "import segyio\n",
    "import re"
   ]
  },
  {
   "cell_type": "code",
   "execution_count": 9,
   "metadata": {
    "collapsed": true
   },
   "outputs": [],
   "source": [
    "f = segyio.open('anonymizer/OGA.2016.SWA.SH812DL006.SW81-724_724.1.GEOKINET.RAWPSTM.FULLSTK.SGY', strict=False)    "
   ]
  },
  {
   "cell_type": "code",
   "execution_count": 2,
   "metadata": {},
   "outputs": [
    {
     "ename": "RuntimeError",
     "evalue": "trace count inconsistent with file size, trace lengths possibly of non-uniform",
     "output_type": "error",
     "traceback": [
      "\u001b[1;31m---------------------------------------------------------------------------\u001b[0m",
      "\u001b[1;31mRuntimeError\u001b[0m                              Traceback (most recent call last)",
      "\u001b[1;32m<ipython-input-2-13bbf9ef5062>\u001b[0m in \u001b[0;36m<module>\u001b[1;34m()\u001b[0m\n\u001b[1;32m----> 1\u001b[1;33m \u001b[0mf\u001b[0m \u001b[1;33m=\u001b[0m \u001b[0msegyio\u001b[0m\u001b[1;33m.\u001b[0m\u001b[0mopen\u001b[0m\u001b[1;33m(\u001b[0m\u001b[1;34m'anonymizer/anonimized.sgy'\u001b[0m\u001b[1;33m,\u001b[0m \u001b[0mstrict\u001b[0m\u001b[1;33m=\u001b[0m\u001b[1;32mFalse\u001b[0m\u001b[1;33m)\u001b[0m\u001b[1;33m\u001b[0m\u001b[0m\n\u001b[0m",
      "\u001b[1;32mC:\\Anaconda3\\envs\\tensorflow-gpu\\lib\\site-packages\\segyio\\open.py\u001b[0m in \u001b[0;36mopen\u001b[1;34m(filename, mode, iline, xline, strict, ignore_geometry)\u001b[0m\n\u001b[0;32m    110\u001b[0m         \u001b[1;32mraise\u001b[0m \u001b[0mValueError\u001b[0m\u001b[1;33m(\u001b[0m\u001b[1;34m', '\u001b[0m\u001b[1;33m.\u001b[0m\u001b[0mjoin\u001b[0m\u001b[1;33m(\u001b[0m\u001b[1;33m(\u001b[0m\u001b[0mproblem\u001b[0m\u001b[1;33m,\u001b[0m \u001b[0msolution\u001b[0m\u001b[1;33m)\u001b[0m\u001b[1;33m)\u001b[0m\u001b[1;33m)\u001b[0m\u001b[1;33m\u001b[0m\u001b[0m\n\u001b[0;32m    111\u001b[0m \u001b[1;33m\u001b[0m\u001b[0m\n\u001b[1;32m--> 112\u001b[1;33m     \u001b[0mf\u001b[0m \u001b[1;33m=\u001b[0m \u001b[0msegyio\u001b[0m\u001b[1;33m.\u001b[0m\u001b[0mSegyFile\u001b[0m\u001b[1;33m(\u001b[0m\u001b[0mstr\u001b[0m\u001b[1;33m(\u001b[0m\u001b[0mfilename\u001b[0m\u001b[1;33m)\u001b[0m\u001b[1;33m,\u001b[0m \u001b[0mmode\u001b[0m\u001b[1;33m,\u001b[0m \u001b[0miline\u001b[0m\u001b[1;33m,\u001b[0m \u001b[0mxline\u001b[0m\u001b[1;33m)\u001b[0m\u001b[1;33m\u001b[0m\u001b[0m\n\u001b[0m\u001b[0;32m    113\u001b[0m     \u001b[0mmetrics\u001b[0m \u001b[1;33m=\u001b[0m \u001b[0mf\u001b[0m\u001b[1;33m.\u001b[0m\u001b[0mxfd\u001b[0m\u001b[1;33m.\u001b[0m\u001b[0mmetrics\u001b[0m\u001b[1;33m(\u001b[0m\u001b[1;33m)\u001b[0m\u001b[1;33m\u001b[0m\u001b[0m\n\u001b[0;32m    114\u001b[0m \u001b[1;33m\u001b[0m\u001b[0m\n",
      "\u001b[1;32mC:\\Anaconda3\\envs\\tensorflow-gpu\\lib\\site-packages\\segyio\\segy.py\u001b[0m in \u001b[0;36m__init__\u001b[1;34m(self, filename, mode, iline, xline, tracecount, binary)\u001b[0m\n\u001b[0;32m     47\u001b[0m         self.xfd = _segyio.segyiofd(filename, mode,\n\u001b[0;32m     48\u001b[0m                                     \u001b[0mtracecount\u001b[0m\u001b[1;33m=\u001b[0m\u001b[0mtracecount\u001b[0m\u001b[1;33m,\u001b[0m\u001b[1;33m\u001b[0m\u001b[0m\n\u001b[1;32m---> 49\u001b[1;33m                                     \u001b[0mbinary\u001b[0m\u001b[1;33m=\u001b[0m\u001b[0mbinary\u001b[0m\u001b[1;33m,\u001b[0m\u001b[1;33m\u001b[0m\u001b[0m\n\u001b[0m\u001b[0;32m     50\u001b[0m                                    )\n\u001b[0;32m     51\u001b[0m         \u001b[0mmetrics\u001b[0m \u001b[1;33m=\u001b[0m \u001b[0mself\u001b[0m\u001b[1;33m.\u001b[0m\u001b[0mxfd\u001b[0m\u001b[1;33m.\u001b[0m\u001b[0mmetrics\u001b[0m\u001b[1;33m(\u001b[0m\u001b[1;33m)\u001b[0m\u001b[1;33m\u001b[0m\u001b[0m\n",
      "\u001b[1;31mRuntimeError\u001b[0m: trace count inconsistent with file size, trace lengths possibly of non-uniform"
     ]
    }
   ],
   "source": [
    "f = segyio.open('anonymizer/anonimized.sgy', strict=False)   "
   ]
  },
  {
   "cell_type": "code",
   "execution_count": 10,
   "metadata": {
    "collapsed": true
   },
   "outputs": [],
   "source": [
    "header = f.text[0].decode(\"utf-8\")\n",
    "# re.split(r\"[C\\d\\d]|[C \\d]\", header)"
   ]
  },
  {
   "cell_type": "code",
   "execution_count": 11,
   "metadata": {},
   "outputs": [
    {
     "data": {
      "text/plain": [
       "bytearray(b'C01 CLIENT: UK OGA                 PROCESSED: GEOKINETICS UK LTD (p4940)        C02 LINE NO.: SW81-724_724.1 SURVEY: SH812DL006 AREA: IRISH SEA SOLWAY FIRTH    C03 SP RANGE: 100-1019/21020-21780 CMP RANGE: 457-7223      FOLD: 24            C04 DATA FORMAT: SEG-Y REV 1       DATE: MARCH 2017                             C05 FILE: OGA.2016.SWA.SH812DL006.SW81-724_724.1.GEOKINET.RAWPSTM.FULLSTK.SGY   C06 DATA DESCRIPTION: 24-FOLD RAW 2D KIRCHHOFF PSTM STACK                       C07                                                                             C08 ***********************ACQUISITION PARAMETERS*******************************C09 ACQUISITION YEAR: 1981    CS9 NAME: SH812DL006                              C10 ACQUIRED BY: PRAKLA SEISMOS        VESSEL: MANTA                            C11 SOURCE: AIRGUNS       VOLUME: 12.88 LITRES                                  C12 SP INT: 25 M GUN DEPTH: 3 M FILTERS: HC 128(70)  HZ(DB/OCT)                 C13 CABLE: 575 M  GROUPS: 24 @ 25 M   CABLE DEPTH: 5 M                          C14 NEAR OFFSET: 150 M     RECORD LENGTH: 5118 MS      SAMPLE RATE: 2 MS        C15 *************************PROCESSING SEQUENCE********************************C16 REFORMAT;NAV-2D GEOM ASSIGN;3(18)HZ Z/PH LOW CUT;T**2 GAIN;DESPIKE;SWELL    C17 NOISE ATTN;EDIT TRACE RECOVERY;1:4 CHAN INTERPOL;2:1 SAA(SHTS);LINEAR NOISE C18 ATTN;DIRECT ARRIVAL & REFR ATTN (SHTS);SRC & RCVR GHOST INVERSION;          C19 DROP ALTERNATE CHAN;1:2 SHOT INTERPOL;2:1 SAA (RCVRS);                      C20 DIRECT ARRIVAL & REFR ATTN (RCVRS);AA FILTER;RESAMPLE TO 4MS;WAVE EQ MULT   C21 ATT;TAU-P DECON (SHTS & RCVRS);TAU-P LINEAR NOISE ATTN(SHTS & RCVRS);       C22 PRELIM VEL ANALYSIS;2:1 SAA (SHTS);PHASE Q:Q=140;ALT TRACE DROP;CMP SORT;   C23 INV T**2 GAIN;V**2.T SPHDIV;MIGRATION VELOCITY ANALYSIS;                    C24 K-PSTM:SMOOTH MIG VELS;RESIDUAL VELOCITY ANALYSIS;NMO:RESID VELS;RADON;     C25 OUTER TRACE MUTE;STACK (1/N NORM);G&C STATIC;PHASE & TIMING MATCH TO        C26 ZERO-PHASE 2016 DATA;SEG-Y O/P                                              C27                                                                             C28 POLARITY: ZERO-PHASE DATA: SEG NORMAL                                       C29 FIRST SAMPLE: 0 MS          LAST SAMPLE: 5120 MS     SAMPLE INT: 4 MS       C30 GEODETIC DATUM: ED50    CENTRAL MERIDIAN: 3.0W     PROJ.: UTM    ZONE: 30N  C31 ANNOTATION POSITION: CMP LOCATION                                           C32 COORDINATES DERIVED FROM NEAR-TRACE MIDPOINT CALCULATED FROM S-RECORD       C33 RECEIVER AND CMP COORDINATES EXTRAPOLATED AT BEGINNING OF LINE              C34                                                                             C35 SEG-Y HEADER WORD POSITIONS:                                                C36 BYTES:  ITEM:     BYTES:  ITEM:     BYTES:  ITEM:                           C37 017-020 SP        021-024 CMP       197-200 SP AT CMP (SP SCALER: 100)      C38 181-184 CMP-X     185-188 CMP-Y     (COORDINATE SCALER: 100)                C39 A POSITIVE SAMPLE CORRESPONDS TO AN INCREASE IN ACOUSTIC IMPEDANCE          C40 END EBCDIC                                                                  ')"
      ]
     },
     "execution_count": 11,
     "metadata": {},
     "output_type": "execute_result"
    }
   ],
   "source": [
    "f.text[0]"
   ]
  },
  {
   "cell_type": "code",
   "execution_count": 12,
   "metadata": {},
   "outputs": [
    {
     "data": {
      "text/plain": [
       "{JobID: 0, TraceFlag: 1, LineNumber: 0, ReelNumber: 0, Traces: 3384, AuxTraces: 0, Interval: 4000, IntervalOriginal: 4000, Samples: 1281, SamplesOriginal: 1281, Format: 1, EnsembleFold: 3384, SortingCode: 3, ExtendedHeaders: 0, VerticalSum: 0, SweepFrequencyStart: 0, SweepFrequencyEnd: 0, SweepLength: 0, SEGYRevision: 256, Sweep: 0, SweepChannel: 0, SweepTaperStart: 0, SweepTaperEnd: 0, Taper: 0, CorrelatedTraces: 0, BinaryGainRecovery: 0, AmplitudeRecovery: 0, MeasurementSystem: 1, ImpulseSignalPolarity: 2, VibratoryPolarity: 0}"
      ]
     },
     "execution_count": 12,
     "metadata": {},
     "output_type": "execute_result"
    }
   ],
   "source": [
    "f.bin"
   ]
  },
  {
   "cell_type": "code",
   "execution_count": 15,
   "metadata": {},
   "outputs": [
    {
     "data": {
      "text/plain": [
       "123456"
      ]
     },
     "execution_count": 15,
     "metadata": {},
     "output_type": "execute_result"
    }
   ],
   "source": [
    "43929506 - 43806050"
   ]
  },
  {
   "cell_type": "code",
   "execution_count": 14,
   "metadata": {},
   "outputs": [
    {
     "data": {
      "text/plain": [
       "{TRACE_SEQUENCE_LINE: 1, TRACE_SEQUENCE_FILE: 1, FieldRecord: 100, TraceNumber: 1, EnergySourcePoint: 100, CDP: 457, CDP_TRACE: 1, TraceIdentificationCode: 1, NSummedTraces: 0, NStackedTraces: 1, DataUse: 0, offset: 725, ReceiverGroupElevation: -500, SourceSurfaceElevation: 0, SourceDepth: 300, ReceiverDatumElevation: 0, SourceDatumElevation: 0, SourceWaterDepth: 0, GroupWaterDepth: 6198, ElevationScalar: -100, SourceGroupScalar: -100, SourceX: 43806050, SourceY: 605832210, GroupX: 43752400, GroupY: 605782793, CoordinateUnits: 1, WeatheringVelocity: 0, SubWeatheringVelocity: 0, SourceUpholeTime: 0, GroupUpholeTime: 0, SourceStaticCorrection: 200, GroupStaticCorrection: 1000, TotalStaticApplied: 1200, LagTimeA: 0, LagTimeB: 0, DelayRecordingTime: 0, MuteTimeStart: 0, MuteTimeEND: 0, TRACE_SAMPLE_COUNT: 1281, TRACE_SAMPLE_INTERVAL: 4000, GainType: 0, InstrumentGainConstant: 0, InstrumentInitialGain: 0, Correlated: 0, SweepFrequencyStart: 0, SweepFrequencyEnd: 0, SweepLength: 0, SweepType: 0, SweepTraceTaperLengthStart: 0, SweepTraceTaperLengthEnd: 0, TaperType: 0, AliasFilterFrequency: 0, AliasFilterSlope: 0, NotchFilterFrequency: 0, NotchFilterSlope: 0, LowCutFrequency: 0, HighCutFrequency: 0, LowCutSlope: 0, HighCutSlope: 0, YearDataRecorded: 0, DayOfYear: 0, HourOfDay: 0, MinuteOfHour: 0, SecondOfMinute: 0, TimeBaseCode: 0, TraceWeightingFactor: 0, GeophoneGroupNumberRoll1: 0, GeophoneGroupNumberFirstTraceOrigField: 0, GeophoneGroupNumberLastTraceOrigField: 0, GapSize: 0, OverTravel: 0, CDP_X: 43779225, CDP_Y: 605807501, INLINE_3D: 724, CROSSLINE_3D: 457, ShotPoint: 8550, ShotPointScalar: -100, TraceValueMeasurementUnit: 0, TransductionConstantMantissa: 0, TransductionConstantPower: 0, TransductionUnit: 0, TraceIdentifier: 0, ScalarTraceHeader: -100, SourceType: 0, SourceEnergyDirectionMantissa: 0, SourceEnergyDirectionExponent: 0, SourceMeasurementMantissa: 0, SourceMeasurementExponent: 0, SourceMeasurementUnit: 0}"
      ]
     },
     "execution_count": 14,
     "metadata": {},
     "output_type": "execute_result"
    }
   ],
   "source": [
    "f.header[0]"
   ]
  },
  {
   "cell_type": "code",
   "execution_count": 13,
   "metadata": {},
   "outputs": [
    {
     "data": {
      "text/plain": [
       "14.018433179723502"
      ]
     },
     "execution_count": 13,
     "metadata": {},
     "output_type": "execute_result"
    }
   ],
   "source": [
    "3042 / 217"
   ]
  },
  {
   "cell_type": "code",
   "execution_count": 14,
   "metadata": {},
   "outputs": [
    {
     "name": "stdout",
     "output_type": "stream",
     "text": [
      "b'\\xc3'\n",
      "b'@'\n",
      "b'\\xf1'\n",
      "b'@'\n",
      "b'\\xc3'\n",
      "b'\\xd3'\n",
      "b'\\xc9'\n",
      "b'\\xc5'\n",
      "b'\\xd5'\n",
      "b'\\xe3'\n",
      "b'@'\n",
      "b'@'\n",
      "b'@'\n",
      "b'@'\n",
      "b'@'\n",
      "b'@'\n",
      "b'@'\n",
      "b'@'\n",
      "b'@'\n",
      "b'@'\n",
      "b'@'\n",
      "b'@'\n",
      "b'@'\n",
      "b'@'\n",
      "b'@'\n",
      "b'@'\n",
      "b'@'\n",
      "b'@'\n",
      "b'@'\n",
      "b'@'\n",
      "b'@'\n",
      "b'@'\n",
      "b'@'\n",
      "b'@'\n",
      "b'\\xc3'\n",
      "b'\\xd6'\n",
      "b'\\xd4'\n",
      "b'\\xd7'\n",
      "b'\\xc1'\n",
      "b'\\xd5'\n",
      "b'\\xe8'\n",
      "b'@'\n",
      "b'@'\n",
      "b'@'\n",
      "b'@'\n",
      "b'@'\n",
      "b'@'\n",
      "b'@'\n",
      "b'@'\n",
      "b'@'\n",
      "b'@'\n",
      "b'@'\n",
      "b'@'\n",
      "b'@'\n",
      "b'@'\n",
      "b'@'\n",
      "b'@'\n",
      "b'@'\n",
      "b'@'\n",
      "b'@'\n",
      "b'@'\n",
      "b'@'\n",
      "b'@'\n",
      "b'@'\n",
      "b'\\xc3'\n",
      "b'\\xd9'\n",
      "b'\\xc5'\n",
      "b'\\xe6'\n",
      "b'@'\n",
      "b'\\xd5'\n",
      "b'\\xd6'\n",
      "b'@'\n",
      "b'@'\n",
      "b'@'\n",
      "b'@'\n",
      "b'@'\n",
      "b'@'\n",
      "b'@'\n",
      "b'@'\n",
      "b'@'\n",
      "b'\\xc3'\n",
      "b'@'\n",
      "b'\\xf2'\n",
      "b'@'\n",
      "b'\\xd3'\n",
      "b'\\xc9'\n",
      "b'\\xd5'\n",
      "b'\\xc5'\n",
      "b'z'\n",
      "b'@'\n",
      "b'@'\n",
      "b'\\xd3'\n",
      "b'\\xc9'\n",
      "b'\\xd5'\n",
      "b'\\xc5'\n",
      "b'm'\n",
      "b'\\xf0'\n",
      "b'\\xf0'\n",
      "b'\\xf1'\n",
      "b'@'\n"
     ]
    }
   ],
   "source": [
    "with open('2D_Land_vibro_data_2ms/Line_001.sgy', 'rb') as f:\n",
    "    for i in range(100):\n",
    "        print(f.read(1))"
   ]
  },
  {
   "cell_type": "code",
   "execution_count": null,
   "metadata": {
    "collapsed": true
   },
   "outputs": [],
   "source": []
  }
 ],
 "metadata": {
  "kernelspec": {
   "display_name": "Python 3",
   "language": "python",
   "name": "python3"
  },
  "language_info": {
   "codemirror_mode": {
    "name": "ipython",
    "version": 3
   },
   "file_extension": ".py",
   "mimetype": "text/x-python",
   "name": "python",
   "nbconvert_exporter": "python",
   "pygments_lexer": "ipython3",
   "version": "3.5.2"
  }
 },
 "nbformat": 4,
 "nbformat_minor": 2
}
