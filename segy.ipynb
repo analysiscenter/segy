{
 "cells": [
  {
   "cell_type": "code",
   "execution_count": 1,
   "metadata": {
    "collapsed": true
   },
   "outputs": [],
   "source": [
    "import segyio\n",
    "import re"
   ]
  },
  {
   "cell_type": "code",
   "execution_count": 2,
   "metadata": {},
   "outputs": [],
   "source": [
    "f = segyio.open('data/sgy/2010_012_FA-l10f1.segy', strict=False)    "
   ]
  },
  {
   "cell_type": "code",
   "execution_count": 3,
   "metadata": {
    "collapsed": true
   },
   "outputs": [],
   "source": [
    "header = f.text[0].decode(\"utf-8\")\n",
    "# re.split(r\"[C\\d\\d]|[C \\d]\", header)"
   ]
  },
  {
   "cell_type": "code",
   "execution_count": 4,
   "metadata": {},
   "outputs": [
    {
     "data": {
      "text/plain": [
       "bytearray(b'C 1 SonarWiz.MAP V4.04.0089: Chesapeake Technology, Inc.                        C 2 File: l10f1                                                                 C 3 SurveyLineName: 0                                                           C 4 Recorded on Machine: SFMG-EDGETECH2                                         C 5 Recorded by User: sfmg                                                      C 6 Licensed to: William Danforth, US Geological Survey                         C 7 Custom Trace Header Definitions                                             C 8 Cable Out X 10 from Nav System stored in bytes: 45-48 (long)                C 9 Event Number from Nav System Bytes: 181-182 (short)                         C10 Vessel Speed (knots X 10) from Nav System Bytes: 183-184 (short)            C11 Vessel Roll (degrees X 10) from Nav System Bytes: 185-186 (short)           C12 Vessel Pitch (degrees X 10) from Nav System Bytes: 187-188 (short)          C13 Vessel Heave (cm X 10) from Nav System Bytes:189-190 (short)                C14 Distance Off Preplanned Track (meters X 10) Bytes:191-192 (short)           C15 Vessel Heading (degrees X 10) from Nav System Bytes:193-194 (short)         C16 Line Name from Nav System (10 bytes ASCII Text) Bytes:195-204 (short)       C17 Event Annotation (36 bytes ASCII Text): Bytes:215-240                       C18 Fathometer Water Depth X 100.0 stored in Bytes:61-64                        C19 Computed Water Depth stored in Bytes:65-68                                  C20 Transducer Altitude (if provided) stored in Bytes:53-56                     C21 Transducer Depth Below Surface (if provided) stored in Bytes:49-52          C22                                                                             C23                                                                             C24                                                                             C25                                                                             C26                                                                             C27                                                                             C28                                                                             C29                                                                             C30                                                                             C31                                                                             C32                                                                             C33                                                                             C34                                                                             C35                                                                             C36                                                                             C37                                                                             C38                                                                             C39                                                                             C40 END EBCDIC                                                                  ')"
      ]
     },
     "execution_count": 4,
     "metadata": {},
     "output_type": "execute_result"
    }
   ],
   "source": [
    "f.text[0]"
   ]
  },
  {
   "cell_type": "code",
   "execution_count": 5,
   "metadata": {
    "scrolled": true
   },
   "outputs": [
    {
     "data": {
      "text/plain": [
       "{JobID: 0, TraceFlag: 0, LineNumber: 1, ReelNumber: 0, Traces: 1, AuxTraces: 0, Interval: 46, IntervalOriginal: 0, Samples: 2170, SamplesOriginal: 0, Format: 5, EnsembleFold: 1, SortingCode: 0, ExtendedHeaders: 0, VerticalSum: 0, SweepFrequencyStart: 0, SweepFrequencyEnd: 0, SweepLength: 0, SEGYRevision: 256, Sweep: 0, SweepChannel: 0, SweepTaperStart: 0, SweepTaperEnd: 0, Taper: 0, CorrelatedTraces: 0, BinaryGainRecovery: 0, AmplitudeRecovery: 0, MeasurementSystem: 1, ImpulseSignalPolarity: 0, VibratoryPolarity: 0}"
      ]
     },
     "execution_count": 5,
     "metadata": {},
     "output_type": "execute_result"
    }
   ],
   "source": [
    "f.bin"
   ]
  },
  {
   "cell_type": "code",
   "execution_count": 6,
   "metadata": {},
   "outputs": [
    {
     "data": {
      "text/plain": [
       "-13500000"
      ]
     },
     "execution_count": 6,
     "metadata": {},
     "output_type": "execute_result"
    }
   ],
   "source": [
    "97806050 - 111306050"
   ]
  },
  {
   "cell_type": "code",
   "execution_count": 7,
   "metadata": {},
   "outputs": [
    {
     "data": {
      "text/plain": [
       "-13499999"
      ]
     },
     "execution_count": 7,
     "metadata": {},
     "output_type": "execute_result"
    }
   ],
   "source": [
    "-16019838 - 673332205"
   ]
  },
  {
   "cell_type": "code",
   "execution_count": 8,
   "metadata": {},
   "outputs": [
    {
     "data": {
      "text/plain": [
       "{TRACE_SEQUENCE_LINE: 141899, TRACE_SEQUENCE_FILE: 2, FieldRecord: 2, TraceNumber: 1, EnergySourcePoint: 0, CDP: 2, CDP_TRACE: 1, TraceIdentificationCode: 1, NSummedTraces: 0, NStackedTraces: 2, DataUse: 0, offset: 0, ReceiverGroupElevation: 0, SourceSurfaceElevation: 0, SourceDepth: 0, ReceiverDatumElevation: 0, SourceDatumElevation: 0, SourceWaterDepth: 0, GroupWaterDepth: 0, ElevationScalar: 1, SourceGroupScalar: -100, SourceX: -16019838, SourceY: 5437058, GroupX: -16019838, GroupY: 5437058, CoordinateUnits: 2, WeatheringVelocity: 0, SubWeatheringVelocity: 0, SourceUpholeTime: 0, GroupUpholeTime: 0, SourceStaticCorrection: 0, GroupStaticCorrection: 0, TotalStaticApplied: 0, LagTimeA: 0, LagTimeB: 0, DelayRecordingTime: 0, MuteTimeStart: 0, MuteTimeEND: 0, TRACE_SAMPLE_COUNT: 2170, TRACE_SAMPLE_INTERVAL: 46, GainType: 0, InstrumentGainConstant: 0, InstrumentInitialGain: 0, Correlated: 0, SweepFrequencyStart: 0, SweepFrequencyEnd: 0, SweepLength: 0, SweepType: 0, SweepTraceTaperLengthStart: 0, SweepTraceTaperLengthEnd: 0, TaperType: 0, AliasFilterFrequency: 0, AliasFilterSlope: 0, NotchFilterFrequency: 0, NotchFilterSlope: 0, LowCutFrequency: 0, HighCutFrequency: 0, LowCutSlope: 0, HighCutSlope: 0, YearDataRecorded: 2010, DayOfYear: 63, HourOfDay: 10, MinuteOfHour: 19, SecondOfMinute: 44, TimeBaseCode: 2, TraceWeightingFactor: 0, GeophoneGroupNumberRoll1: 0, GeophoneGroupNumberFirstTraceOrigField: 0, GeophoneGroupNumberLastTraceOrigField: 0, GapSize: 0, OverTravel: 0, CDP_X: 0, CDP_Y: 0, INLINE_3D: 1003784323, CROSSLINE_3D: 943779872, ShotPoint: 1003784323, ShotPointScalar: -1, TraceValueMeasurementUnit: -1, TransductionConstantMantissa: 0, TransductionConstantPower: 0, TransductionUnit: 0, TraceIdentifier: 0, ScalarTraceHeader: 0, SourceType: 0, SourceEnergyDirectionMantissa: 0, SourceEnergyDirectionExponent: 0, SourceMeasurementMantissa: 0, SourceMeasurementExponent: 0, SourceMeasurementUnit: 0}"
      ]
     },
     "execution_count": 8,
     "metadata": {},
     "output_type": "execute_result"
    }
   ],
   "source": [
    "f.header[1] #SourceX: -16019838, SourceY: 5437058 | "
   ]
  },
  {
   "cell_type": "code",
   "execution_count": 7,
   "metadata": {},
   "outputs": [
    {
     "data": {
      "text/plain": [
       "14.018433179723502"
      ]
     },
     "execution_count": 7,
     "metadata": {},
     "output_type": "execute_result"
    }
   ],
   "source": [
    "3042 / 217"
   ]
  },
  {
   "cell_type": "code",
   "execution_count": 14,
   "metadata": {},
   "outputs": [
    {
     "name": "stdout",
     "output_type": "stream",
     "text": [
      "b'\\xc3'\n",
      "b'@'\n",
      "b'\\xf1'\n",
      "b'@'\n",
      "b'\\xc3'\n",
      "b'\\xd3'\n",
      "b'\\xc9'\n",
      "b'\\xc5'\n",
      "b'\\xd5'\n",
      "b'\\xe3'\n",
      "b'@'\n",
      "b'@'\n",
      "b'@'\n",
      "b'@'\n",
      "b'@'\n",
      "b'@'\n",
      "b'@'\n",
      "b'@'\n",
      "b'@'\n",
      "b'@'\n",
      "b'@'\n",
      "b'@'\n",
      "b'@'\n",
      "b'@'\n",
      "b'@'\n",
      "b'@'\n",
      "b'@'\n",
      "b'@'\n",
      "b'@'\n",
      "b'@'\n",
      "b'@'\n",
      "b'@'\n",
      "b'@'\n",
      "b'@'\n",
      "b'\\xc3'\n",
      "b'\\xd6'\n",
      "b'\\xd4'\n",
      "b'\\xd7'\n",
      "b'\\xc1'\n",
      "b'\\xd5'\n",
      "b'\\xe8'\n",
      "b'@'\n",
      "b'@'\n",
      "b'@'\n",
      "b'@'\n",
      "b'@'\n",
      "b'@'\n",
      "b'@'\n",
      "b'@'\n",
      "b'@'\n",
      "b'@'\n",
      "b'@'\n",
      "b'@'\n",
      "b'@'\n",
      "b'@'\n",
      "b'@'\n",
      "b'@'\n",
      "b'@'\n",
      "b'@'\n",
      "b'@'\n",
      "b'@'\n",
      "b'@'\n",
      "b'@'\n",
      "b'@'\n",
      "b'\\xc3'\n",
      "b'\\xd9'\n",
      "b'\\xc5'\n",
      "b'\\xe6'\n",
      "b'@'\n",
      "b'\\xd5'\n",
      "b'\\xd6'\n",
      "b'@'\n",
      "b'@'\n",
      "b'@'\n",
      "b'@'\n",
      "b'@'\n",
      "b'@'\n",
      "b'@'\n",
      "b'@'\n",
      "b'@'\n",
      "b'\\xc3'\n",
      "b'@'\n",
      "b'\\xf2'\n",
      "b'@'\n",
      "b'\\xd3'\n",
      "b'\\xc9'\n",
      "b'\\xd5'\n",
      "b'\\xc5'\n",
      "b'z'\n",
      "b'@'\n",
      "b'@'\n",
      "b'\\xd3'\n",
      "b'\\xc9'\n",
      "b'\\xd5'\n",
      "b'\\xc5'\n",
      "b'm'\n",
      "b'\\xf0'\n",
      "b'\\xf0'\n",
      "b'\\xf1'\n",
      "b'@'\n"
     ]
    }
   ],
   "source": [
    "with open('2D_Land_vibro_data_2ms/Line_001.sgy', 'rb') as f:\n",
    "    for i in range(100):\n",
    "        print(f.read(1))"
   ]
  },
  {
   "cell_type": "code",
   "execution_count": null,
   "metadata": {
    "collapsed": true
   },
   "outputs": [],
   "source": []
  }
 ],
 "metadata": {
  "kernelspec": {
   "display_name": "Python 3",
   "language": "python",
   "name": "python3"
  },
  "language_info": {
   "codemirror_mode": {
    "name": "ipython",
    "version": 3
   },
   "file_extension": ".py",
   "mimetype": "text/x-python",
   "name": "python",
   "nbconvert_exporter": "python",
   "pygments_lexer": "ipython3",
   "version": "3.5.2"
  }
 },
 "nbformat": 4,
 "nbformat_minor": 2
}
