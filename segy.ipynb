{
 "cells": [
  {
   "cell_type": "code",
   "execution_count": 1,
   "metadata": {
    "collapsed": true
   },
   "outputs": [],
   "source": [
    "import segyio\n",
    "import re"
   ]
  },
  {
   "cell_type": "code",
   "execution_count": 2,
   "metadata": {},
   "outputs": [],
   "source": [
    "f = segyio.open('anonymizer/t.sgy', strict=False)    "
   ]
  },
  {
   "cell_type": "code",
   "execution_count": 3,
   "metadata": {},
   "outputs": [],
   "source": [
    "header = f.text[0].decode(\"utf-8\")\n",
    "# re.split(r\"[C\\d\\d]|[C \\d]\", header)"
   ]
  },
  {
   "cell_type": "code",
   "execution_count": 4,
   "metadata": {},
   "outputs": [
    {
     "data": {
      "text/plain": [
       "bytearray(b'C01*****************************************************************************C02*****************************************************************************C03*****************************************************************************C04*****************************************************************************C05*****************************************************************************C06*****************************************************************************C07*****************************************************************************C08*****************************************************************************C09*****************************************************************************C10*****************************************************************************C11*****************************************************************************C12*****************************************************************************C13*****************************************************************************C14*****************************************************************************C15*****************************************************************************C16*****************************************************************************C17*****************************************************************************C18*****************************************************************************C19*****************************************************************************C20*****************************************************************************C21*****************************************************************************C22*****************************************************************************C23*****************************************************************************C24*****************************************************************************C25*****************************************************************************C26*****************************************************************************C27*****************************************************************************C28*****************************************************************************C29*****************************************************************************C30*****************************************************************************C31*****************************************************************************C32*****************************************************************************C33*****************************************************************************C34*****************************************************************************C35*****************************************************************************C36*****************************************************************************C37*****************************************************************************C38*****************************************************************************C39*****************************************************************************C40 END EBCDIC                                                                  ')"
      ]
     },
     "execution_count": 4,
     "metadata": {},
     "output_type": "execute_result"
    }
   ],
   "source": [
    "f.text[0]"
   ]
  },
  {
   "cell_type": "code",
   "execution_count": 90,
   "metadata": {},
   "outputs": [
    {
     "data": {
      "text/plain": [
       "3384"
      ]
     },
     "execution_count": 90,
     "metadata": {},
     "output_type": "execute_result"
    }
   ],
   "source": [
    "len(f.header)"
   ]
  },
  {
   "cell_type": "code",
   "execution_count": 91,
   "metadata": {},
   "outputs": [
    {
     "data": {
      "text/plain": [
       "{TRACE_SEQUENCE_LINE: 1, TRACE_SEQUENCE_FILE: 1, FieldRecord: 100, TraceNumber: 1, EnergySourcePoint: 100, CDP: 457, CDP_TRACE: 1, TraceIdentificationCode: 1, NSummedTraces: 0, NStackedTraces: 1, DataUse: 0, offset: 725, ReceiverGroupElevation: -500, SourceSurfaceElevation: 0, SourceDepth: 300, ReceiverDatumElevation: 0, SourceDatumElevation: 0, SourceWaterDepth: 0, GroupWaterDepth: 6198, ElevationScalar: -100, SourceGroupScalar: -100, SourceX: 43806050, SourceY: 605832210, GroupX: 43752400, GroupY: 605782793, CoordinateUnits: 1, WeatheringVelocity: 0, SubWeatheringVelocity: 0, SourceUpholeTime: 0, GroupUpholeTime: 0, SourceStaticCorrection: 200, GroupStaticCorrection: 1000, TotalStaticApplied: 1200, LagTimeA: 0, LagTimeB: 0, DelayRecordingTime: 0, MuteTimeStart: 0, MuteTimeEND: 0, TRACE_SAMPLE_COUNT: 1281, TRACE_SAMPLE_INTERVAL: 4000, GainType: 0, InstrumentGainConstant: 0, InstrumentInitialGain: 0, Correlated: 0, SweepFrequencyStart: 0, SweepFrequencyEnd: 0, SweepLength: 0, SweepType: 0, SweepTraceTaperLengthStart: 0, SweepTraceTaperLengthEnd: 0, TaperType: 0, AliasFilterFrequency: 0, AliasFilterSlope: 0, NotchFilterFrequency: 0, NotchFilterSlope: 0, LowCutFrequency: 0, HighCutFrequency: 0, LowCutSlope: 0, HighCutSlope: 0, YearDataRecorded: 0, DayOfYear: 0, HourOfDay: 0, MinuteOfHour: 0, SecondOfMinute: 0, TimeBaseCode: 0, TraceWeightingFactor: 0, GeophoneGroupNumberRoll1: 0, GeophoneGroupNumberFirstTraceOrigField: 0, GeophoneGroupNumberLastTraceOrigField: 0, GapSize: 0, OverTravel: 0, CDP_X: 43779225, CDP_Y: 605807501, INLINE_3D: 724, CROSSLINE_3D: 457, ShotPoint: 8550, ShotPointScalar: -100, TraceValueMeasurementUnit: 0, TransductionConstantMantissa: 0, TransductionConstantPower: 0, TransductionUnit: 0, TraceIdentifier: 0, ScalarTraceHeader: -100, SourceType: 0, SourceEnergyDirectionMantissa: 0, SourceEnergyDirectionExponent: 0, SourceMeasurementMantissa: 0, SourceMeasurementExponent: 0, SourceMeasurementUnit: 0}"
      ]
     },
     "execution_count": 91,
     "metadata": {},
     "output_type": "execute_result"
    }
   ],
   "source": [
    "f.header[0] #43906050"
   ]
  },
  {
   "cell_type": "code",
   "execution_count": 66,
   "metadata": {},
   "outputs": [
    {
     "data": {
      "text/plain": [
       "14.018433179723502"
      ]
     },
     "execution_count": 66,
     "metadata": {},
     "output_type": "execute_result"
    }
   ],
   "source": [
    "3042 / 217"
   ]
  },
  {
   "cell_type": "code",
   "execution_count": 14,
   "metadata": {},
   "outputs": [
    {
     "name": "stdout",
     "output_type": "stream",
     "text": [
      "b'\\xc3'\n",
      "b'@'\n",
      "b'\\xf1'\n",
      "b'@'\n",
      "b'\\xc3'\n",
      "b'\\xd3'\n",
      "b'\\xc9'\n",
      "b'\\xc5'\n",
      "b'\\xd5'\n",
      "b'\\xe3'\n",
      "b'@'\n",
      "b'@'\n",
      "b'@'\n",
      "b'@'\n",
      "b'@'\n",
      "b'@'\n",
      "b'@'\n",
      "b'@'\n",
      "b'@'\n",
      "b'@'\n",
      "b'@'\n",
      "b'@'\n",
      "b'@'\n",
      "b'@'\n",
      "b'@'\n",
      "b'@'\n",
      "b'@'\n",
      "b'@'\n",
      "b'@'\n",
      "b'@'\n",
      "b'@'\n",
      "b'@'\n",
      "b'@'\n",
      "b'@'\n",
      "b'\\xc3'\n",
      "b'\\xd6'\n",
      "b'\\xd4'\n",
      "b'\\xd7'\n",
      "b'\\xc1'\n",
      "b'\\xd5'\n",
      "b'\\xe8'\n",
      "b'@'\n",
      "b'@'\n",
      "b'@'\n",
      "b'@'\n",
      "b'@'\n",
      "b'@'\n",
      "b'@'\n",
      "b'@'\n",
      "b'@'\n",
      "b'@'\n",
      "b'@'\n",
      "b'@'\n",
      "b'@'\n",
      "b'@'\n",
      "b'@'\n",
      "b'@'\n",
      "b'@'\n",
      "b'@'\n",
      "b'@'\n",
      "b'@'\n",
      "b'@'\n",
      "b'@'\n",
      "b'@'\n",
      "b'\\xc3'\n",
      "b'\\xd9'\n",
      "b'\\xc5'\n",
      "b'\\xe6'\n",
      "b'@'\n",
      "b'\\xd5'\n",
      "b'\\xd6'\n",
      "b'@'\n",
      "b'@'\n",
      "b'@'\n",
      "b'@'\n",
      "b'@'\n",
      "b'@'\n",
      "b'@'\n",
      "b'@'\n",
      "b'@'\n",
      "b'\\xc3'\n",
      "b'@'\n",
      "b'\\xf2'\n",
      "b'@'\n",
      "b'\\xd3'\n",
      "b'\\xc9'\n",
      "b'\\xd5'\n",
      "b'\\xc5'\n",
      "b'z'\n",
      "b'@'\n",
      "b'@'\n",
      "b'\\xd3'\n",
      "b'\\xc9'\n",
      "b'\\xd5'\n",
      "b'\\xc5'\n",
      "b'm'\n",
      "b'\\xf0'\n",
      "b'\\xf0'\n",
      "b'\\xf1'\n",
      "b'@'\n"
     ]
    }
   ],
   "source": [
    "with open('2D_Land_vibro_data_2ms/Line_001.sgy', 'rb') as f:\n",
    "    for i in range(100):\n",
    "        print(f.read(1))"
   ]
  },
  {
   "cell_type": "code",
   "execution_count": null,
   "metadata": {
    "collapsed": true
   },
   "outputs": [],
   "source": []
  }
 ],
 "metadata": {
  "kernelspec": {
   "display_name": "Python 3",
   "language": "python",
   "name": "python3"
  },
  "language_info": {
   "codemirror_mode": {
    "name": "ipython",
    "version": 3
   },
   "file_extension": ".py",
   "mimetype": "text/x-python",
   "name": "python",
   "nbconvert_exporter": "python",
   "pygments_lexer": "ipython3",
   "version": "3.5.2"
  }
 },
 "nbformat": 4,
 "nbformat_minor": 2
}
