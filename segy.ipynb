{
 "cells": [
  {
   "cell_type": "code",
   "execution_count": 1,
   "metadata": {
    "collapsed": true
   },
   "outputs": [],
   "source": [
    "import segyio\n",
    "import re"
   ]
  },
  {
   "cell_type": "code",
   "execution_count": 2,
   "metadata": {
    "collapsed": true
   },
   "outputs": [],
   "source": [
    "f = segyio.open('anonymizer/sgy/Line_001.sgy', strict=False)    "
   ]
  },
  {
   "cell_type": "code",
   "execution_count": 3,
   "metadata": {
    "collapsed": true
   },
   "outputs": [],
   "source": [
    "header = f.text[0].decode(\"utf-8\")\n",
    "# re.split(r\"[C\\d\\d]|[C \\d]\", header)"
   ]
  },
  {
   "cell_type": "code",
   "execution_count": 4,
   "metadata": {},
   "outputs": [
    {
     "data": {
      "text/plain": [
       "bytearray(b'C 1 CLIENT                        COMPANY                       CREW NO         C 2 LINE:  LINE_001           AREA                        MAP ID                C 3 REEL NO           DAY-START OF REEL     YEAR      OBSERVER                  C 4 INSTRUMENT: MFG            MODEL            SERIAL NO                       C 5 DATA TRACES/RECORD: 282  AUXILIARY TRACES/RECORD:  2    CDP FOLD            C 6 SAMPLE INTERNAL:  4MS     SAMPLES/TRACE: 750  BITS/IN      BYTES/SAMPLE 4   C 7 RECORDING FORMAT        FORMAT THIS REEL: SEGY   MEASUREMENT SYSTEM         C 8 SAMPLE CODE: FLOATING PT     FIXED PT     FIXED PT-GAIN     CORRELATED      C 9 GAIN  TYPE: FIXED     BINARY     FLOATING POINT     OTHER                   C10 FILTERS: ALIAS     HZ  NOTCH     HZ  BAND    -     HZ  SLOPE    -    DB/OCT C11 SOURCE: TYPE            NUMBER/POINT        POINT INTERVAL                  C12     PATTERN:                           LENGTH        WIDTH                  C13 SWEEP: START     HZ  END     HZ  LENGTH      MS  CHANNEL NO     TYPE        C14 TAPER: START LENGTH       MS  END LENGTH       MS  TYPE                     C15 SPREAD: OFFSET        MAX DISTANCE        GROUP INTERVAL                    C16 GEOPHONES: PER GROUP     SPACING     FREQUENCY     MFG          MODEL       C17     PATTERN:                           LENGTH        WIDTH                  C18 TRACES SORTED BY: RECORD     CDP     OTHER                                  C19 AMPLITUDE RECOVEY: NONE      SPHERICAL DIV       AGC    OTHER               C20 MAP PROJECTION                      ZONE ID       COORDINATE UNITS          C21 PROCESSING:                                                                 C22 PROCESSING:                                                                 C23                                                                             C24                                                                             C25                                                                             C26                                                                             C27                                                                             C28                                                                             C29                                                                             C30                                                                             C31                                                                             C32                                                                             C33                                                                             C34                                                                             C35                                                                             C36                                                                             C37                                                                             C38                                                                             C39                                                                             C40 END EBCDIC                                                                  ')"
      ]
     },
     "execution_count": 4,
     "metadata": {},
     "output_type": "execute_result"
    }
   ],
   "source": [
    "f.text[0]"
   ]
  },
  {
   "cell_type": "code",
   "execution_count": 5,
   "metadata": {
    "scrolled": true
   },
   "outputs": [
    {
     "data": {
      "text/plain": [
       "{JobID: 0, TraceFlag: 0, LineNumber: 0, ReelNumber: 0, Traces: -31073, AuxTraces: 0, Interval: 2000, IntervalOriginal: 2000, Samples: 1501, SamplesOriginal: 8193, Format: 1, EnsembleFold: 0, SortingCode: 1, ExtendedHeaders: 0, VerticalSum: 0, SweepFrequencyStart: 0, SweepFrequencyEnd: 0, SweepLength: 0, SEGYRevision: 0, Sweep: 0, SweepChannel: 0, SweepTaperStart: 0, SweepTaperEnd: 0, Taper: 0, CorrelatedTraces: 0, BinaryGainRecovery: 0, AmplitudeRecovery: 0, MeasurementSystem: 1, ImpulseSignalPolarity: 0, VibratoryPolarity: 0}"
      ]
     },
     "execution_count": 5,
     "metadata": {},
     "output_type": "execute_result"
    }
   ],
   "source": [
    "f.bin"
   ]
  },
  {
   "cell_type": "code",
   "execution_count": 6,
   "metadata": {},
   "outputs": [
    {
     "data": {
      "text/plain": [
       "7429174"
      ]
     },
     "execution_count": 6,
     "metadata": {},
     "output_type": "execute_result"
    }
   ],
   "source": [
    "43806050 - 36376876"
   ]
  },
  {
   "cell_type": "code",
   "execution_count": 7,
   "metadata": {},
   "outputs": [
    {
     "data": {
      "text/plain": [
       "12033593"
      ]
     },
     "execution_count": 7,
     "metadata": {},
     "output_type": "execute_result"
    }
   ],
   "source": [
    "605832210 - 593798617"
   ]
  },
  {
   "cell_type": "code",
   "execution_count": 9,
   "metadata": {},
   "outputs": [
    {
     "data": {
      "text/plain": [
       "{TRACE_SEQUENCE_LINE: 2, TRACE_SEQUENCE_FILE: 2, FieldRecord: 231, TraceNumber: -1, EnergySourcePoint: 32, CDP: 0, CDP_TRACE: 2, TraceIdentificationCode: 0, NSummedTraces: 0, NStackedTraces: 1, DataUse: 0, offset: 0, ReceiverGroupElevation: 0, SourceSurfaceElevation: 0, SourceDepth: 0, ReceiverDatumElevation: 0, SourceDatumElevation: 0, SourceWaterDepth: 0, GroupWaterDepth: 0, ElevationScalar: -10000, SourceGroupScalar: -10000, SourceX: 0, SourceY: 0, GroupX: 0, GroupY: 0, CoordinateUnits: 3, WeatheringVelocity: 0, SubWeatheringVelocity: 0, SourceUpholeTime: 0, GroupUpholeTime: 0, SourceStaticCorrection: 0, GroupStaticCorrection: 0, TotalStaticApplied: 0, LagTimeA: 0, LagTimeB: 0, DelayRecordingTime: 0, MuteTimeStart: 0, MuteTimeEND: 0, TRACE_SAMPLE_COUNT: 1501, TRACE_SAMPLE_INTERVAL: 2000, GainType: 3, InstrumentGainConstant: 1, InstrumentInitialGain: 0, Correlated: 0, SweepFrequencyStart: 0, SweepFrequencyEnd: 0, SweepLength: 0, SweepType: 0, SweepTraceTaperLengthStart: 0, SweepTraceTaperLengthEnd: 0, TaperType: 0, AliasFilterFrequency: 207, AliasFilterSlope: 298, NotchFilterFrequency: 0, NotchFilterSlope: 0, LowCutFrequency: 0, HighCutFrequency: 207, LowCutSlope: 0, HighCutSlope: 298, YearDataRecorded: 1998, DayOfYear: 0, HourOfDay: 0, MinuteOfHour: 0, SecondOfMinute: 0, TimeBaseCode: 0, TraceWeightingFactor: 0, GeophoneGroupNumberRoll1: 0, GeophoneGroupNumberFirstTraceOrigField: 0, GeophoneGroupNumberLastTraceOrigField: 0, GapSize: 0, OverTravel: 0, CDP_X: 0, CDP_Y: 0, INLINE_3D: 0, CROSSLINE_3D: 0, ShotPoint: 0, ShotPointScalar: 0, TraceValueMeasurementUnit: 0, TransductionConstantMantissa: 0, TransductionConstantPower: 0, TransductionUnit: 0, TraceIdentifier: 0, ScalarTraceHeader: 0, SourceType: 0, SourceEnergyDirectionMantissa: 0, SourceEnergyDirectionExponent: 0, SourceMeasurementMantissa: 0, SourceMeasurementExponent: 0, SourceMeasurementUnit: 0}"
      ]
     },
     "execution_count": 9,
     "metadata": {},
     "output_type": "execute_result"
    }
   ],
   "source": [
    "f.header[1] #-16019838 5437058 -> "
   ]
  },
  {
   "cell_type": "code",
   "execution_count": 7,
   "metadata": {},
   "outputs": [
    {
     "data": {
      "text/plain": [
       "14.018433179723502"
      ]
     },
     "execution_count": 7,
     "metadata": {},
     "output_type": "execute_result"
    }
   ],
   "source": [
    "3042 / 217"
   ]
  },
  {
   "cell_type": "code",
   "execution_count": 14,
   "metadata": {},
   "outputs": [
    {
     "name": "stdout",
     "output_type": "stream",
     "text": [
      "b'\\xc3'\n",
      "b'@'\n",
      "b'\\xf1'\n",
      "b'@'\n",
      "b'\\xc3'\n",
      "b'\\xd3'\n",
      "b'\\xc9'\n",
      "b'\\xc5'\n",
      "b'\\xd5'\n",
      "b'\\xe3'\n",
      "b'@'\n",
      "b'@'\n",
      "b'@'\n",
      "b'@'\n",
      "b'@'\n",
      "b'@'\n",
      "b'@'\n",
      "b'@'\n",
      "b'@'\n",
      "b'@'\n",
      "b'@'\n",
      "b'@'\n",
      "b'@'\n",
      "b'@'\n",
      "b'@'\n",
      "b'@'\n",
      "b'@'\n",
      "b'@'\n",
      "b'@'\n",
      "b'@'\n",
      "b'@'\n",
      "b'@'\n",
      "b'@'\n",
      "b'@'\n",
      "b'\\xc3'\n",
      "b'\\xd6'\n",
      "b'\\xd4'\n",
      "b'\\xd7'\n",
      "b'\\xc1'\n",
      "b'\\xd5'\n",
      "b'\\xe8'\n",
      "b'@'\n",
      "b'@'\n",
      "b'@'\n",
      "b'@'\n",
      "b'@'\n",
      "b'@'\n",
      "b'@'\n",
      "b'@'\n",
      "b'@'\n",
      "b'@'\n",
      "b'@'\n",
      "b'@'\n",
      "b'@'\n",
      "b'@'\n",
      "b'@'\n",
      "b'@'\n",
      "b'@'\n",
      "b'@'\n",
      "b'@'\n",
      "b'@'\n",
      "b'@'\n",
      "b'@'\n",
      "b'@'\n",
      "b'\\xc3'\n",
      "b'\\xd9'\n",
      "b'\\xc5'\n",
      "b'\\xe6'\n",
      "b'@'\n",
      "b'\\xd5'\n",
      "b'\\xd6'\n",
      "b'@'\n",
      "b'@'\n",
      "b'@'\n",
      "b'@'\n",
      "b'@'\n",
      "b'@'\n",
      "b'@'\n",
      "b'@'\n",
      "b'@'\n",
      "b'\\xc3'\n",
      "b'@'\n",
      "b'\\xf2'\n",
      "b'@'\n",
      "b'\\xd3'\n",
      "b'\\xc9'\n",
      "b'\\xd5'\n",
      "b'\\xc5'\n",
      "b'z'\n",
      "b'@'\n",
      "b'@'\n",
      "b'\\xd3'\n",
      "b'\\xc9'\n",
      "b'\\xd5'\n",
      "b'\\xc5'\n",
      "b'm'\n",
      "b'\\xf0'\n",
      "b'\\xf0'\n",
      "b'\\xf1'\n",
      "b'@'\n"
     ]
    }
   ],
   "source": [
    "with open('2D_Land_vibro_data_2ms/Line_001.sgy', 'rb') as f:\n",
    "    for i in range(100):\n",
    "        print(f.read(1))"
   ]
  },
  {
   "cell_type": "code",
   "execution_count": null,
   "metadata": {
    "collapsed": true
   },
   "outputs": [],
   "source": []
  }
 ],
 "metadata": {
  "kernelspec": {
   "display_name": "Python 3",
   "language": "python",
   "name": "python3"
  },
  "language_info": {
   "codemirror_mode": {
    "name": "ipython",
    "version": 3
   },
   "file_extension": ".py",
   "mimetype": "text/x-python",
   "name": "python",
   "nbconvert_exporter": "python",
   "pygments_lexer": "ipython3",
   "version": "3.5.2"
  }
 },
 "nbformat": 4,
 "nbformat_minor": 2
}
